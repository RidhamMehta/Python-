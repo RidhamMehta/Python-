{
 "cells": [
  {
   "cell_type": "code",
   "execution_count": 1,
   "metadata": {},
   "outputs": [
    {
     "data": {
      "text/plain": [
       "'C:\\\\Users\\\\Abc'"
      ]
     },
     "execution_count": 1,
     "metadata": {},
     "output_type": "execute_result"
    }
   ],
   "source": [
    "pwd\n"
   ]
  },
  {
   "cell_type": "code",
   "execution_count": 2,
   "metadata": {},
   "outputs": [],
   "source": [
    "import pandas as pd\n",
    "import numpy as np"
   ]
  },
  {
   "cell_type": "code",
   "execution_count": 3,
   "metadata": {},
   "outputs": [],
   "source": [
    "df=pd.read_excel('BlueJaysThreeMonthScores.xlsx')"
   ]
  },
  {
   "cell_type": "code",
   "execution_count": 4,
   "metadata": {},
   "outputs": [
    {
     "data": {
      "text/html": [
       "<div>\n",
       "<style scoped>\n",
       "    .dataframe tbody tr th:only-of-type {\n",
       "        vertical-align: middle;\n",
       "    }\n",
       "\n",
       "    .dataframe tbody tr th {\n",
       "        vertical-align: top;\n",
       "    }\n",
       "\n",
       "    .dataframe thead th {\n",
       "        text-align: right;\n",
       "    }\n",
       "</style>\n",
       "<table border=\"1\" class=\"dataframe\">\n",
       "  <thead>\n",
       "    <tr style=\"text-align: right;\">\n",
       "      <th></th>\n",
       "      <th>Date</th>\n",
       "      <th>Home or Away</th>\n",
       "      <th>Opponent</th>\n",
       "      <th>Blue Jays Score</th>\n",
       "      <th>Opponent Score</th>\n",
       "      <th>Outcome</th>\n",
       "    </tr>\n",
       "  </thead>\n",
       "  <tbody>\n",
       "    <tr>\n",
       "      <td>0</td>\n",
       "      <td>3/4/2017</td>\n",
       "      <td>Away</td>\n",
       "      <td>BALTIMORE</td>\n",
       "      <td>2.0</td>\n",
       "      <td>3.0</td>\n",
       "      <td>Lost</td>\n",
       "    </tr>\n",
       "    <tr>\n",
       "      <td>1</td>\n",
       "      <td>5/4/2017</td>\n",
       "      <td>Away</td>\n",
       "      <td>BALTIMORE</td>\n",
       "      <td>1.0</td>\n",
       "      <td>3.0</td>\n",
       "      <td>Lost</td>\n",
       "    </tr>\n",
       "    <tr>\n",
       "      <td>2</td>\n",
       "      <td>6/4/2017</td>\n",
       "      <td>Away</td>\n",
       "      <td>TAMPA BAY</td>\n",
       "      <td>5.0</td>\n",
       "      <td>2.0</td>\n",
       "      <td>Won</td>\n",
       "    </tr>\n",
       "    <tr>\n",
       "      <td>3</td>\n",
       "      <td>7/4/2017</td>\n",
       "      <td>Away</td>\n",
       "      <td>TAMPA BAY</td>\n",
       "      <td>8.0</td>\n",
       "      <td>10.0</td>\n",
       "      <td>Lost</td>\n",
       "    </tr>\n",
       "    <tr>\n",
       "      <td>4</td>\n",
       "      <td>8/4/2017</td>\n",
       "      <td>Away</td>\n",
       "      <td>TAMPA BAY</td>\n",
       "      <td>2.0</td>\n",
       "      <td>3.0</td>\n",
       "      <td>Lost</td>\n",
       "    </tr>\n",
       "    <tr>\n",
       "      <td>...</td>\n",
       "      <td>...</td>\n",
       "      <td>...</td>\n",
       "      <td>...</td>\n",
       "      <td>...</td>\n",
       "      <td>...</td>\n",
       "      <td>...</td>\n",
       "    </tr>\n",
       "    <tr>\n",
       "      <td>75</td>\n",
       "      <td>25/6/2017</td>\n",
       "      <td>Away</td>\n",
       "      <td>KANSAS CITY</td>\n",
       "      <td>8.0</td>\n",
       "      <td>2.0</td>\n",
       "      <td>Won</td>\n",
       "    </tr>\n",
       "    <tr>\n",
       "      <td>76</td>\n",
       "      <td>27/6/2017</td>\n",
       "      <td>Home</td>\n",
       "      <td>BALTIMORE</td>\n",
       "      <td>1.0</td>\n",
       "      <td>3.0</td>\n",
       "      <td>Lost</td>\n",
       "    </tr>\n",
       "    <tr>\n",
       "      <td>77</td>\n",
       "      <td>28/6/2017</td>\n",
       "      <td>Home</td>\n",
       "      <td>BALTIMORE</td>\n",
       "      <td>4.0</td>\n",
       "      <td>0.0</td>\n",
       "      <td>Won</td>\n",
       "    </tr>\n",
       "    <tr>\n",
       "      <td>78</td>\n",
       "      <td>29/6/2017</td>\n",
       "      <td>Home</td>\n",
       "      <td>BALTIMORE</td>\n",
       "      <td>0.0</td>\n",
       "      <td>2.0</td>\n",
       "      <td>Lost</td>\n",
       "    </tr>\n",
       "    <tr>\n",
       "      <td>79</td>\n",
       "      <td>30/6/2017</td>\n",
       "      <td>Home</td>\n",
       "      <td>BOSTON</td>\n",
       "      <td>4.0</td>\n",
       "      <td>7.0</td>\n",
       "      <td>Lost</td>\n",
       "    </tr>\n",
       "  </tbody>\n",
       "</table>\n",
       "<p>80 rows × 6 columns</p>\n",
       "</div>"
      ],
      "text/plain": [
       "         Date Home or Away     Opponent  Blue Jays Score  Opponent Score  \\\n",
       "0    3/4/2017         Away    BALTIMORE              2.0             3.0   \n",
       "1    5/4/2017         Away    BALTIMORE              1.0             3.0   \n",
       "2    6/4/2017         Away    TAMPA BAY              5.0             2.0   \n",
       "3    7/4/2017         Away    TAMPA BAY              8.0            10.0   \n",
       "4    8/4/2017         Away    TAMPA BAY              2.0             3.0   \n",
       "..        ...          ...          ...              ...             ...   \n",
       "75  25/6/2017         Away  KANSAS CITY              8.0             2.0   \n",
       "76  27/6/2017         Home    BALTIMORE              1.0             3.0   \n",
       "77  28/6/2017         Home    BALTIMORE              4.0             0.0   \n",
       "78  29/6/2017         Home    BALTIMORE              0.0             2.0   \n",
       "79  30/6/2017         Home       BOSTON              4.0             7.0   \n",
       "\n",
       "   Outcome  \n",
       "0     Lost  \n",
       "1     Lost  \n",
       "2      Won  \n",
       "3     Lost  \n",
       "4     Lost  \n",
       "..     ...  \n",
       "75     Won  \n",
       "76    Lost  \n",
       "77     Won  \n",
       "78    Lost  \n",
       "79    Lost  \n",
       "\n",
       "[80 rows x 6 columns]"
      ]
     },
     "execution_count": 4,
     "metadata": {},
     "output_type": "execute_result"
    }
   ],
   "source": [
    "df\n"
   ]
  },
  {
   "cell_type": "code",
   "execution_count": 5,
   "metadata": {
    "scrolled": true
   },
   "outputs": [
    {
     "data": {
      "text/plain": [
       "Index(['Date', 'Home or Away', 'Opponent', 'Blue Jays Score', 'Opponent Score',\n",
       "       'Outcome'],\n",
       "      dtype='object')"
      ]
     },
     "execution_count": 5,
     "metadata": {},
     "output_type": "execute_result"
    }
   ],
   "source": [
    "df.columns"
   ]
  },
  {
   "cell_type": "code",
   "execution_count": 7,
   "metadata": {
    "scrolled": true
   },
   "outputs": [
    {
     "data": {
      "text/plain": [
       "array([[<matplotlib.axes._subplots.AxesSubplot object at 0x0000004207A23E48>,\n",
       "        <matplotlib.axes._subplots.AxesSubplot object at 0x000000420ABA36C8>]],\n",
       "      dtype=object)"
      ]
     },
     "execution_count": 7,
     "metadata": {},
     "output_type": "execute_result"
    },
    {
     "data": {
      "image/png": "[encoded data removed]",
      "text/plain": [
       "<Figure size 432x288 with 2 Axes>"
      ]
     },
     "metadata": {
      "needs_background": "light"
     },
     "output_type": "display_data"
    }
   ],
   "source": [
    "df.hist()"
   ]
  },
  {
   "cell_type": "code",
   "execution_count": 8,
   "metadata": {},
   "outputs": [
    {
     "data": {
      "text/plain": [
       "<matplotlib.axes._subplots.AxesSubplot at 0x420abdd488>"
      ]
     },
     "execution_count": 8,
     "metadata": {},
     "output_type": "execute_result"
    },
    {
     "data": {
      "image/png": "[encoded data removed]",
      "text/plain": [
       "<Figure size 432x288 with 1 Axes>"
      ]
     },
     "metadata": {
      "needs_background": "light"
     },
     "output_type": "display_data"
    }
   ],
   "source": [
    "df.boxplot()"
   ]
  },
  {
   "cell_type": "code",
   "execution_count": 9,
   "metadata": {},
   "outputs": [
    {
     "data": {
      "text/plain": [
       "(80, 6)"
      ]
     },
     "execution_count": 9,
     "metadata": {},
     "output_type": "execute_result"
    }
   ],
   "source": [
    "df.shape\n"
   ]
  },
  {
   "cell_type": "code",
   "execution_count": 10,
   "metadata": {},
   "outputs": [
    {
     "data": {
      "text/html": [
       "<div>\n",
       "<style scoped>\n",
       "    .dataframe tbody tr th:only-of-type {\n",
       "        vertical-align: middle;\n",
       "    }\n",
       "\n",
       "    .dataframe tbody tr th {\n",
       "        vertical-align: top;\n",
       "    }\n",
       "\n",
       "    .dataframe thead th {\n",
       "        text-align: right;\n",
       "    }\n",
       "</style>\n",
       "<table border=\"1\" class=\"dataframe\">\n",
       "  <thead>\n",
       "    <tr style=\"text-align: right;\">\n",
       "      <th></th>\n",
       "      <th>Blue Jays Score</th>\n",
       "      <th>Opponent Score</th>\n",
       "    </tr>\n",
       "  </thead>\n",
       "  <tbody>\n",
       "    <tr>\n",
       "      <td>count</td>\n",
       "      <td>79.000000</td>\n",
       "      <td>79.000000</td>\n",
       "    </tr>\n",
       "    <tr>\n",
       "      <td>mean</td>\n",
       "      <td>4.215190</td>\n",
       "      <td>4.531646</td>\n",
       "    </tr>\n",
       "    <tr>\n",
       "      <td>std</td>\n",
       "      <td>2.795009</td>\n",
       "      <td>3.050159</td>\n",
       "    </tr>\n",
       "    <tr>\n",
       "      <td>min</td>\n",
       "      <td>0.000000</td>\n",
       "      <td>0.000000</td>\n",
       "    </tr>\n",
       "    <tr>\n",
       "      <td>25%</td>\n",
       "      <td>2.000000</td>\n",
       "      <td>2.000000</td>\n",
       "    </tr>\n",
       "    <tr>\n",
       "      <td>50%</td>\n",
       "      <td>4.000000</td>\n",
       "      <td>4.000000</td>\n",
       "    </tr>\n",
       "    <tr>\n",
       "      <td>75%</td>\n",
       "      <td>6.000000</td>\n",
       "      <td>6.500000</td>\n",
       "    </tr>\n",
       "    <tr>\n",
       "      <td>max</td>\n",
       "      <td>17.000000</td>\n",
       "      <td>12.000000</td>\n",
       "    </tr>\n",
       "  </tbody>\n",
       "</table>\n",
       "</div>"
      ],
      "text/plain": [
       "       Blue Jays Score  Opponent Score\n",
       "count        79.000000       79.000000\n",
       "mean          4.215190        4.531646\n",
       "std           2.795009        3.050159\n",
       "min           0.000000        0.000000\n",
       "25%           2.000000        2.000000\n",
       "50%           4.000000        4.000000\n",
       "75%           6.000000        6.500000\n",
       "max          17.000000       12.000000"
      ]
     },
     "execution_count": 10,
     "metadata": {},
     "output_type": "execute_result"
    }
   ],
   "source": [
    "df.describe()"
   ]
  },
  {
   "cell_type": "code",
   "execution_count": 11,
   "metadata": {},
   "outputs": [
    {
     "data": {
      "text/html": [
       "<div>\n",
       "<style scoped>\n",
       "    .dataframe tbody tr th:only-of-type {\n",
       "        vertical-align: middle;\n",
       "    }\n",
       "\n",
       "    .dataframe tbody tr th {\n",
       "        vertical-align: top;\n",
       "    }\n",
       "\n",
       "    .dataframe thead th {\n",
       "        text-align: right;\n",
       "    }\n",
       "</style>\n",
       "<table border=\"1\" class=\"dataframe\">\n",
       "  <thead>\n",
       "    <tr style=\"text-align: right;\">\n",
       "      <th></th>\n",
       "      <th>Date</th>\n",
       "      <th>Home or Away</th>\n",
       "      <th>Opponent</th>\n",
       "      <th>Blue Jays Score</th>\n",
       "      <th>Opponent Score</th>\n",
       "      <th>Outcome</th>\n",
       "    </tr>\n",
       "  </thead>\n",
       "  <tbody>\n",
       "    <tr>\n",
       "      <td>0</td>\n",
       "      <td>3/4/2017</td>\n",
       "      <td>Away</td>\n",
       "      <td>BALTIMORE</td>\n",
       "      <td>2.0</td>\n",
       "      <td>3.0</td>\n",
       "      <td>Lost</td>\n",
       "    </tr>\n",
       "    <tr>\n",
       "      <td>1</td>\n",
       "      <td>5/4/2017</td>\n",
       "      <td>Away</td>\n",
       "      <td>BALTIMORE</td>\n",
       "      <td>1.0</td>\n",
       "      <td>3.0</td>\n",
       "      <td>Lost</td>\n",
       "    </tr>\n",
       "    <tr>\n",
       "      <td>2</td>\n",
       "      <td>6/4/2017</td>\n",
       "      <td>Away</td>\n",
       "      <td>TAMPA BAY</td>\n",
       "      <td>5.0</td>\n",
       "      <td>2.0</td>\n",
       "      <td>Won</td>\n",
       "    </tr>\n",
       "    <tr>\n",
       "      <td>3</td>\n",
       "      <td>7/4/2017</td>\n",
       "      <td>Away</td>\n",
       "      <td>TAMPA BAY</td>\n",
       "      <td>8.0</td>\n",
       "      <td>10.0</td>\n",
       "      <td>Lost</td>\n",
       "    </tr>\n",
       "    <tr>\n",
       "      <td>4</td>\n",
       "      <td>8/4/2017</td>\n",
       "      <td>Away</td>\n",
       "      <td>TAMPA BAY</td>\n",
       "      <td>2.0</td>\n",
       "      <td>3.0</td>\n",
       "      <td>Lost</td>\n",
       "    </tr>\n",
       "  </tbody>\n",
       "</table>\n",
       "</div>"
      ],
      "text/plain": [
       "       Date Home or Away   Opponent  Blue Jays Score  Opponent Score Outcome\n",
       "0  3/4/2017         Away  BALTIMORE              2.0             3.0    Lost\n",
       "1  5/4/2017         Away  BALTIMORE              1.0             3.0    Lost\n",
       "2  6/4/2017         Away  TAMPA BAY              5.0             2.0     Won\n",
       "3  7/4/2017         Away  TAMPA BAY              8.0            10.0    Lost\n",
       "4  8/4/2017         Away  TAMPA BAY              2.0             3.0    Lost"
      ]
     },
     "execution_count": 11,
     "metadata": {},
     "output_type": "execute_result"
    }
   ],
   "source": [
    "df.head()"
   ]
  },
  {
   "cell_type": "code",
   "execution_count": 14,
   "metadata": {},
   "outputs": [
    {
     "data": {
      "text/plain": [
       "<bound method DataFrame.mean of          Date Home or Away     Opponent  Blue Jays Score  Opponent Score  \\\n",
       "0    3/4/2017         Away    BALTIMORE              2.0             3.0   \n",
       "1    5/4/2017         Away    BALTIMORE              1.0             3.0   \n",
       "2    6/4/2017         Away    TAMPA BAY              5.0             2.0   \n",
       "3    7/4/2017         Away    TAMPA BAY              8.0            10.0   \n",
       "4    8/4/2017         Away    TAMPA BAY              2.0             3.0   \n",
       "..        ...          ...          ...              ...             ...   \n",
       "75  25/6/2017         Away  KANSAS CITY              8.0             2.0   \n",
       "76  27/6/2017         Home    BALTIMORE              1.0             3.0   \n",
       "77  28/6/2017         Home    BALTIMORE              4.0             0.0   \n",
       "78  29/6/2017         Home    BALTIMORE              0.0             2.0   \n",
       "79  30/6/2017         Home       BOSTON              4.0             7.0   \n",
       "\n",
       "   Outcome  \n",
       "0     Lost  \n",
       "1     Lost  \n",
       "2      Won  \n",
       "3     Lost  \n",
       "4     Lost  \n",
       "..     ...  \n",
       "75     Won  \n",
       "76    Lost  \n",
       "77     Won  \n",
       "78    Lost  \n",
       "79    Lost  \n",
       "\n",
       "[80 rows x 6 columns]>"
      ]
     },
     "execution_count": 14,
     "metadata": {},
     "output_type": "execute_result"
    }
   ],
   "source": [
    "df.mean\n"
   ]
  },
  {
   "cell_type": "code",
   "execution_count": 15,
   "metadata": {},
   "outputs": [
    {
     "data": {
      "text/plain": [
       "<bound method DataFrame.mean of          Date Home or Away     Opponent  Blue Jays Score  Opponent Score  \\\n",
       "0    3/4/2017         Away    BALTIMORE              2.0             3.0   \n",
       "1    5/4/2017         Away    BALTIMORE              1.0             3.0   \n",
       "2    6/4/2017         Away    TAMPA BAY              5.0             2.0   \n",
       "3    7/4/2017         Away    TAMPA BAY              8.0            10.0   \n",
       "4    8/4/2017         Away    TAMPA BAY              2.0             3.0   \n",
       "..        ...          ...          ...              ...             ...   \n",
       "75  25/6/2017         Away  KANSAS CITY              8.0             2.0   \n",
       "76  27/6/2017         Home    BALTIMORE              1.0             3.0   \n",
       "77  28/6/2017         Home    BALTIMORE              4.0             0.0   \n",
       "78  29/6/2017         Home    BALTIMORE              0.0             2.0   \n",
       "79  30/6/2017         Home       BOSTON              4.0             7.0   \n",
       "\n",
       "   Outcome  \n",
       "0     Lost  \n",
       "1     Lost  \n",
       "2      Won  \n",
       "3     Lost  \n",
       "4     Lost  \n",
       "..     ...  \n",
       "75     Won  \n",
       "76    Lost  \n",
       "77     Won  \n",
       "78    Lost  \n",
       "79    Lost  \n",
       "\n",
       "[80 rows x 6 columns]>"
      ]
     },
     "execution_count": 15,
     "metadata": {},
     "output_type": "execute_result"
    }
   ],
   "source": [
    "df.mean"
   ]
  },
  {
   "cell_type": "code",
   "execution_count": null,
   "metadata": {},
   "outputs": [],
   "source": []
  }
 ],
 "metadata": {
  "kernelspec": {
   "display_name": "Python 3",
   "language": "python",
   "name": "python3"
  },
  "language_info": {
   "codemirror_mode": {
    "name": "ipython",
    "version": 3
   },
   "file_extension": ".py",
   "mimetype": "text/x-python",
   "name": "python",
   "nbconvert_exporter": "python",
   "pygments_lexer": "ipython3",
   "version": "3.7.4"
  }
 },
 "nbformat": 4,
 "nbformat_minor": 2
}
